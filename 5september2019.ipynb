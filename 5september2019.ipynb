{
 "cells": [
  {
   "cell_type": "code",
   "execution_count": 7,
   "metadata": {},
   "outputs": [
    {
     "name": "stdout",
     "output_type": "stream",
     "text": [
      " enter value of lowerbound9\n",
      "enter value of upperbound13\n",
      "10 is in range\n"
     ]
    }
   ],
   "source": [
    "## check wherther the given number is in range or not\n",
    "def check(n):\n",
    "    lb=int(input( \" enter value of lowerbound\"))\n",
    "    ub=int(input( \"enter value of upperbound\"))\n",
    "    if(lb<=n)and(ub>=n):\n",
    "        print(n,\"is in range\")\n",
    "    else:\n",
    "        print(n,\"is not in range\")\n",
    "check(10)"
   ]
  },
  {
   "cell_type": "code",
   "execution_count": 10,
   "metadata": {},
   "outputs": [
    {
     "name": "stdout",
     "output_type": "stream",
     "text": [
      "enter number9897\n",
      "1\n",
      "2\n",
      "3\n",
      "4\n"
     ]
    }
   ],
   "source": [
    "# calculate the number of digits\n",
    "def count(n):\n",
    "    n=int(input(\"enter number\"))\n",
    "    count=0\n",
    "    while n>0:\n",
    "        n=n//10\n",
    "        count+=1\n",
    "        print(count)\n",
    "count(245567)"
   ]
  },
  {
   "cell_type": "code",
   "execution_count": 15,
   "metadata": {},
   "outputs": [
    {
     "name": "stdout",
     "output_type": "stream",
     "text": [
      "enter lowerbound1990\n",
      "enter upperbound2020\n",
      "1992\n",
      "1996\n",
      "2004\n",
      "2008\n",
      "2012\n",
      "2016\n"
     ]
    }
   ],
   "source": [
    "# print the leap years within the range\n",
    "#lowerbound=1990\n",
    "#upperbound=2019\n",
    "def check():\n",
    "        lb=int(input(\"enter lowerbound\"))\n",
    "        ub=int(input(\"enter upperbound\"))\n",
    "        for i in range(lb,ub):\n",
    "            if(i%4==0)and(i%400!=0):\n",
    "                print(i)\n",
    "            \n",
    "check()\n",
    "\n",
    "\n",
    "\n",
    "\n"
   ]
  },
  {
   "cell_type": "code",
   "execution_count": 26,
   "metadata": {},
   "outputs": [],
   "source": [
    "#write a program to check the number is prime or not\n",
    "def check():\n",
    "    n=int(input(\"enter nuber\"))\n",
    "    count = 0\n",
    "    for i in range(1,n+1):\n",
    "        if n%i==0:\n",
    "            count = count+1\n",
    "    if count==2:\n",
    "        print(\"it is a prime\")\n",
    "    else:\n",
    "        print(\"not a prime\")"
   ]
  },
  {
   "cell_type": "code",
   "execution_count": null,
   "metadata": {},
   "outputs": [],
   "source": [
    "#write a program prime number in a given  range(2,50)\n",
    "def checkprime():\n",
    "    lb=int(input(\"enter lowerbound\"))\n",
    "    ub=int(input(\"enter upperbound\"))\n",
    "    for i in range(lb,ub+1):\n",
    "        if check(i):\n",
    "            print(i)\n",
    "checkprime()"
   ]
  },
  {
   "cell_type": "code",
   "execution_count": 1,
   "metadata": {},
   "outputs": [],
   "source": [
    "#prefect number\n",
    "def check(n):\n",
    "    #n=int(input(\"enter number\"))\n",
    "    sum1=0\n",
    "    for i in range(1,n):\n",
    "        if(n%i==0):\n",
    "            sum1=sum1+i\n",
    "    if(sum1==n):\n",
    "        return True\n",
    "    else:\n",
    "        #print(\" not a prefect number\")\n",
    "        return False\n",
    "#check()"
   ]
  },
  {
   "cell_type": "code",
   "execution_count": 2,
   "metadata": {},
   "outputs": [
    {
     "name": "stdout",
     "output_type": "stream",
     "text": [
      "enter a number1\n",
      "enter a number10\n",
      "6\n"
     ]
    }
   ],
   "source": [
    "def prefectrange():\n",
    "    lb=int(input(\"enter a number\"))\n",
    "    ub=int(input(\"enter a number\"))\n",
    "    for i in range(lb,ub+1):\n",
    "        if check(i):\n",
    "            print(i)\n",
    "prefectrange()          "
   ]
  },
  {
   "cell_type": "code",
   "execution_count": 3,
   "metadata": {},
   "outputs": [
    {
     "data": {
      "text/plain": [
       "'siridurga'"
      ]
     },
     "execution_count": 3,
     "metadata": {},
     "output_type": "execute_result"
    }
   ],
   "source": [
    "s1=\"siri\"\n",
    "s2=\"durga\"\n",
    "s1+s2"
   ]
  },
  {
   "cell_type": "code",
   "execution_count": 9,
   "metadata": {},
   "outputs": [
    {
     "name": "stdout",
     "output_type": "stream",
     "text": [
      "None\n",
      "[6, 7, 8, 9, 10]\n",
      "10\n",
      "6\n",
      "9\n"
     ]
    }
   ],
   "source": [
    "li=[10,9,8,7,6]\n",
    "## sort the list in asscending order=[6,7,8,9,10]\n",
    "###Maxium element in the list\n",
    "###Minum element in the list\n",
    "###second largest element in that list\n",
    "def  check():\n",
    "    li=[10,9,8,7,6]\n",
    "    print(li.sort())\n",
    "    print(li)\n",
    "    print(max(li))\n",
    "    print(min(li))\n",
    "    print(li[-2])\n",
    "check()    "
   ]
  },
  {
   "cell_type": "code",
   "execution_count": 15,
   "metadata": {},
   "outputs": [
    {
     "name": "stdout",
     "output_type": "stream",
     "text": [
      "[2, 3, 4]\n"
     ]
    }
   ],
   "source": [
    "#li=[2,3,4,2,3,4]\n",
    "def li():\n",
    "    li=[2,3,4,2,3,4]\n",
    "    l=[]\n",
    "    for i in li:\n",
    "        if i not in l:\n",
    "            l.append(i)\n",
    "    print(l)\n",
    "li()    "
   ]
  },
  {
   "cell_type": "code",
   "execution_count": 20,
   "metadata": {},
   "outputs": [
    {
     "name": "stdout",
     "output_type": "stream",
     "text": [
      "[2, 4, 6, 3]\n"
     ]
    }
   ],
   "source": [
    "## li=[2,4,4,4,6,6,3]\n",
    "## print unique list=[2,3,4,6]\n",
    "##sort the list\n",
    "##Maximum Element\n",
    "def li():\n",
    "    li=[2,4,4,4,6,6,3]\n",
    "    l=[]\n",
    "    for i in li:\n",
    "        if i not in l:\n",
    "            l.append(i)\n",
    "    print(l)\n",
    "li()\n",
    "    \n",
    "    "
   ]
  },
  {
   "cell_type": "code",
   "execution_count": null,
   "metadata": {},
   "outputs": [],
   "source": []
  }
 ],
 "metadata": {
  "kernelspec": {
   "display_name": "Python 3",
   "language": "python",
   "name": "python3"
  },
  "language_info": {
   "codemirror_mode": {
    "name": "ipython",
    "version": 3
   },
   "file_extension": ".py",
   "mimetype": "text/x-python",
   "name": "python",
   "nbconvert_exporter": "python",
   "pygments_lexer": "ipython3",
   "version": "3.6.5"
  }
 },
 "nbformat": 4,
 "nbformat_minor": 2
}
